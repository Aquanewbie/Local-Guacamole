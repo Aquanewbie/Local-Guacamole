{
 "cells": [
  {
   "cell_type": "code",
   "execution_count": 12,
   "metadata": {},
   "outputs": [],
   "source": [
    "Argentina =  [-38.416097, -63.616672]\n",
    "Australia = [-25.274398, 133.775136]\n",
    "Bolivia = [-16.290154,-63.588653]\n",
    "Bosnia_and_Herzegovina=[43.915886,17.679076]\n",
    "Brazil = [-14.235004,-51.92528]\n",
    "Cameroon = [7.369722,12.354722]\n",
    "Central_African_Republic = [6.611111,20.939444]\n",
    "Chile=[-35.675147,-71.542969]\n",
    "China=[35.86166,104.195397]\n",
    "Colombia=[4.570868,-74.297333]\n",
    "Republic_of_the_Congo=[-0.228021,15.827659]\n",
    "Costa_Rica=[9.748917,-83.753428]\n",
    "Ivory_Coast= [7.539989,-5.54708]\n",
    "Cuba=[21.521757,-77.781167]\n",
    "Cyprus=[35.126413,33.429859]\n",
    "Democratic_Republic_of_the_Congo=[-4.322447, 15.307045]\n",
    "Dominican_Republic=[18.735693,-70.162651]\n",
    "Ecuador=[-1.831239,-78.183406]\n",
    "El_Salvador=[13.794185,-88.89653]\n",
    "Swaziland=[-26.522503,31.465866]\n",
    "Ethiopia=[9.145,40.489673]\n",
    "France=[46.227638,2.213749]\n",
    "French_Guiana=[3.933889,-53.125782]\n",
    "Ghana=[7.946527,-1.023194]\n",
    "Greece=[39.074208,21.824312]\n",
    "Guatemala=[15.783471,-90.230759]\n",
    "Guyana=[4.860416,-58.93018]\n",
    "Haiti=[18.971187,-72.285215]\n",
    "Honduras=[15.199999,-86.241905]\n",
    "Indonesia=[-0.789275,113.921327]\n",
    "Israel=[31.046051,34.851612]\n",
    "Jamaica=[18.109581,-77.297508]\n",
    "Kenya=[-0.023559,37.906193]\n",
    "Lebanon=[33.854721,35.862285]\n",
    "Madagascar=[-18.766947,46.869107]\n",
    "Mexico=[23.634501,-102.552784]\n",
    "Morocco=[31.791702,-7.09262]\n",
    "New_Zealand=[-40.900557,174.885971]\n",
    "Panama=[8.537981,-80.782127]\n",
    "Paraguay=[-23.442503,-58.443832]\n",
    "Peru=[-9.189967,-75.015152]\n",
    "Philippines=[12.879721,121.774017]\n",
    "Portugal=[39.399872,-8.224454]\n",
    "Puerto_Rico=[18.220833,-66.590149]\n",
    "Rwanda=[-1.940278,29.873888]\n",
    "South_Africa=[-33.918861, 18.423300]\n",
    "Spain=[40.416775, -3.703790]\n",
    "Sri_Lanka=[6.927079, 79.861244]\n",
    "East_Timor=[-8.874217,125.727539]\n",
    "Trinidad_and_Tobago=[10.691803,-61.222503]\n",
    "Tunisia=[33.886917,9.537499]\n",
    "Turkey=[38.963745,35.243322]\n",
    "United_States_of_America=[37.09024,-95.712891]\n",
    "Venezuela=[6.42375,-66.58973]\n",
    "Zimbabwe=[-19.015438,29.154857]"
   ]
  },
  {
   "cell_type": "code",
   "execution_count": 16,
   "metadata": {},
   "outputs": [],
   "source": [
    "MarkerCoordinates= [Argentina,Australia,Bolivia,Bosnia_and_Herzegovina,Brazil,Cameroon,Central_African_Republic,Chile,China,Colombia,Republic_of_the_Congo,Costa_Rica,Ivory_Coast,Cuba,Cyprus,Democratic_Republic_of_the_Congo,Dominican_Republic,Ecuador,El_Salvador,Swaziland,Ethiopia,France,French_Guiana,Ghana,Greece,Guatemala,Guyana,Haiti,Honduras,Indonesia,Israel,Jamaica,Kenya,Lebanon,Madagascar,Mexico,Morocco,New_Zealand,Panama,Paraguay,Peru,Philippines,Portugal,Puerto_Rico,Rwanda,South_Africa,Spain,Sri_Lanka,East_Timor,Trinidad_and_Tobago,Tunisia,Turkey,United_States_of_America,Venezuela,Zimbabwe]"
   ]
  },
  {
   "cell_type": "code",
   "execution_count": 17,
   "metadata": {},
   "outputs": [
    {
     "data": {
      "text/plain": [
       "55"
      ]
     },
     "execution_count": 17,
     "metadata": {},
     "output_type": "execute_result"
    }
   ],
   "source": [
    "len(MarkerCoordinates)"
   ]
  },
  {
   "cell_type": "code",
   "execution_count": 19,
   "metadata": {},
   "outputs": [
    {
     "name": "stdout",
     "output_type": "stream",
     "text": [
      "[[-38.416097, -63.616672], [-25.274398, 133.775136], [-16.290154, -63.588653], [43.915886, 17.679076], [-14.235004, -51.92528], [7.369722, 12.354722], [6.611111, 20.939444], [-35.675147, -71.542969], [35.86166, 104.195397], [4.570868, -74.297333], [-0.228021, 15.827659], [9.748917, -83.753428], [7.539989, -5.54708], [21.521757, -77.781167], [35.126413, 33.429859], [-4.322447, 15.307045], [18.735693, -70.162651], [-1.831239, -78.183406], [13.794185, -88.89653], [-26.522503, 31.465866], [9.145, 40.489673], [46.227638, 2.213749], [3.933889, -53.125782], [7.946527, -1.023194], [39.074208, 21.824312], [15.783471, -90.230759], [4.860416, -58.93018], [18.971187, -72.285215], [15.199999, -86.241905], [-0.789275, 113.921327], [31.046051, 34.851612], [18.109581, -77.297508], [-0.023559, 37.906193], [33.854721, 35.862285], [-18.766947, 46.869107], [23.634501, -102.552784], [31.791702, -7.09262], [-40.900557, 174.885971], [8.537981, -80.782127], [-23.442503, -58.443832], [-9.189967, -75.015152], [12.879721, 121.774017], [39.399872, -8.224454], [18.220833, -66.590149], [-1.940278, 29.873888], [-33.918861, 18.4233], [40.416775, -3.70379], [6.927079, 79.861244], [-8.874217, 125.727539], [10.691803, -61.222503], [33.886917, 9.537499], [38.963745, 35.243322], [37.09024, -95.712891], [6.42375, -66.58973], [-19.015438, 29.154857]]\n"
     ]
    }
   ],
   "source": [
    "print(MarkerCoordinates)"
   ]
  },
  {
   "cell_type": "code",
   "execution_count": 20,
   "metadata": {},
   "outputs": [],
   "source": [
    "MarkerCoordinatesFlipped=[]\n",
    "#SwitchedLatlon to LongLAt\n",
    "for i in MarkerCoordinates:\n",
    "    MarkerCoordinatesFlipped.append([i[1],i[0]])\n",
    "    "
   ]
  },
  {
   "cell_type": "code",
   "execution_count": 22,
   "metadata": {},
   "outputs": [
    {
     "name": "stdout",
     "output_type": "stream",
     "text": [
      "[[-63.616672, -38.416097], [133.775136, -25.274398], [-63.588653, -16.290154], [17.679076, 43.915886], [-51.92528, -14.235004], [12.354722, 7.369722], [20.939444, 6.611111], [-71.542969, -35.675147], [104.195397, 35.86166], [-74.297333, 4.570868], [15.827659, -0.228021], [-83.753428, 9.748917], [-5.54708, 7.539989], [-77.781167, 21.521757], [33.429859, 35.126413], [15.307045, -4.322447], [-70.162651, 18.735693], [-78.183406, -1.831239], [-88.89653, 13.794185], [31.465866, -26.522503], [40.489673, 9.145], [2.213749, 46.227638], [-53.125782, 3.933889], [-1.023194, 7.946527], [21.824312, 39.074208], [-90.230759, 15.783471], [-58.93018, 4.860416], [-72.285215, 18.971187], [-86.241905, 15.199999], [113.921327, -0.789275], [34.851612, 31.046051], [-77.297508, 18.109581], [37.906193, -0.023559], [35.862285, 33.854721], [46.869107, -18.766947], [-102.552784, 23.634501], [-7.09262, 31.791702], [174.885971, -40.900557], [-80.782127, 8.537981], [-58.443832, -23.442503], [-75.015152, -9.189967], [121.774017, 12.879721], [-8.224454, 39.399872], [-66.590149, 18.220833], [29.873888, -1.940278], [18.4233, -33.918861], [-3.70379, 40.416775], [79.861244, 6.927079], [125.727539, -8.874217], [-61.222503, 10.691803], [9.537499, 33.886917], [35.243322, 38.963745], [-95.712891, 37.09024], [-66.58973, 6.42375], [29.154857, -19.015438]]\n"
     ]
    }
   ],
   "source": [
    "print(MarkerCoordinatesFlipped)"
   ]
  },
  {
   "cell_type": "code",
   "execution_count": 23,
   "metadata": {},
   "outputs": [
    {
     "data": {
      "text/plain": [
       "55"
      ]
     },
     "execution_count": 23,
     "metadata": {},
     "output_type": "execute_result"
    }
   ],
   "source": [
    "len(MarkerCoordinatesFlipped)"
   ]
  },
  {
   "cell_type": "code",
   "execution_count": null,
   "metadata": {},
   "outputs": [],
   "source": []
  }
 ],
 "metadata": {
  "kernelspec": {
   "display_name": "Python 3",
   "language": "python",
   "name": "python3"
  },
  "language_info": {
   "codemirror_mode": {
    "name": "ipython",
    "version": 3
   },
   "file_extension": ".py",
   "mimetype": "text/x-python",
   "name": "python",
   "nbconvert_exporter": "python",
   "pygments_lexer": "ipython3",
   "version": "3.7.3"
  }
 },
 "nbformat": 4,
 "nbformat_minor": 2
}
